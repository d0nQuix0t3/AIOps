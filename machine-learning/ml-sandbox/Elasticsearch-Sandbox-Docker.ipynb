{
 "cells": [
  {
   "cell_type": "markdown",
   "metadata": {},
   "source": [
    "# Elasticsearch Sandbox"
   ]
  },
  {
   "cell_type": "code",
   "execution_count": 2,
   "metadata": {},
   "outputs": [
    {
     "name": "stdout",
     "output_type": "stream",
     "text": [
      "Collecting elasticsearch==7.*\n",
      "\u001b[?25l  Downloading https://files.pythonhosted.org/packages/86/3c/047e4985f81af98b71f19e318a6207187987bcd8af73b1edd4470cdee76b/elasticsearch-7.1.0-py2.py3-none-any.whl (83kB)\n",
      "\u001b[K     |████████████████████████████████| 92kB 1.5MB/s eta 0:00:01\n",
      "\u001b[?25hRequirement already satisfied: urllib3>=1.21.1 in /opt/conda/lib/python3.7/site-packages (from elasticsearch==7.*) (1.25.7)\n",
      "Installing collected packages: elasticsearch\n",
      "Successfully installed elasticsearch-7.1.0\n"
     ]
    }
   ],
   "source": [
    "!pip install 'elasticsearch==7.*'"
   ]
  },
  {
   "cell_type": "code",
   "execution_count": 3,
   "metadata": {},
   "outputs": [],
   "source": [
    "from datetime import datetime\n",
    "from elasticsearch import Elasticsearch\n",
    "from elasticsearch import helpers\n",
    "es = Elasticsearch([{'host': 'elasticsearch', 'port': 9200}])"
   ]
  },
  {
   "cell_type": "code",
   "execution_count": 5,
   "metadata": {},
   "outputs": [],
   "source": [
    "def test_connect_elasticsearch(es):\n",
    "    if es.ping():\n",
    "        print('Yay Connect')\n",
    "    else:\n",
    "        print('Awww it could not connect!')\n",
    "    return es"
   ]
  },
  {
   "cell_type": "code",
   "execution_count": 6,
   "metadata": {},
   "outputs": [
    {
     "name": "stdout",
     "output_type": "stream",
     "text": [
      "Yay Connect\n"
     ]
    },
    {
     "data": {
      "text/plain": [
       "<Elasticsearch([{'host': 'elasticsearch', 'port': 9200}])>"
      ]
     },
     "execution_count": 6,
     "metadata": {},
     "output_type": "execute_result"
    }
   ],
   "source": [
    "test_connect_elasticsearch(es)"
   ]
  },
  {
   "cell_type": "code",
   "execution_count": 98,
   "metadata": {},
   "outputs": [
    {
     "data": {
      "text/plain": [
       "['.monitoring-beats-7-2019.12.03',\n",
       " 'apm-7.4.0-transaction-000001',\n",
       " 'apm-7.4.0-error-000001',\n",
       " '.apm-agent-configuration',\n",
       " 'heartbeat-7.4.0-2019.12.03-000001',\n",
       " 'apm-7.4.0-span-000001',\n",
       " 'parse-2019.12-00',\n",
       " 'syslog-2019.12-00',\n",
       " 'packetbeat-7.4.0-2019.12.03-000001',\n",
       " '.monitoring-kibana-7-2019.12.03',\n",
       " '.kibana_1',\n",
       " 'metricbeat-7.4.0-2019.12.03-000001',\n",
       " 'docker-2019.12-00',\n",
       " '.monitoring-es-7-2019.12.03',\n",
       " 'apm-7.4.0-onboarding-2019.12.03',\n",
       " 'apm-7.4.0-metric-000001',\n",
       " '.kibana_task_manager_1',\n",
       " 'send-2019.12-00',\n",
       " '.monitoring-logstash-7-2019.12.03']"
      ]
     },
     "execution_count": 98,
     "metadata": {},
     "output_type": "execute_result"
    }
   ],
   "source": [
    "def indices_list_elasticsearch(es):\n",
    "    es_raw_indices = es.indices.get_alias(\"*\")\n",
    "    es_indices_list = list(es_raw_indices.keys())\n",
    "    return es_indices_list"
   ]
  },
  {
   "cell_type": "code",
   "execution_count": 100,
   "metadata": {},
   "outputs": [],
   "source": [
    "result = es.get(index=\"docker-2019.12-00\", id='6cFCym4BHG4B21aa8Ebq')['_source']"
   ]
  },
  {
   "cell_type": "code",
   "execution_count": 122,
   "metadata": {},
   "outputs": [],
   "source": [
    "def elastic_index_id_list(index_str):\n",
    "    #GET ELASTICSEARCH INDEX ID LIST FROM LAST 15 MINUTES\n",
    "    e_idx=helpers.scan(es,query={\"query\":{\"range\":{\"@timestamp\": {'gte':'now-15m', 'lt':'now'}}}},scroll='1m',index=index_str)#like others so far\n",
    "    #LIST OF INDEX IDs\n",
    "    elastic_ids=[e_id['_id'] for e_id in e_idx]\n",
    "    return elastic_ids\n",
    "\n",
    "\n"
   ]
  },
  {
   "cell_type": "code",
   "execution_count": 124,
   "metadata": {},
   "outputs": [],
   "source": [
    "\n",
    "es_timestamp = result['@timestamp']\n",
    "es_stream = result['stream']\n",
    "es_error = result['error']\n",
    "es_host = result['host']\n",
    "es_agent = result['agent']\n",
    "es_log = result['log']\n",
    "es_docker = result['docker']\n",
    "es_input = result['input']\n",
    "es_container = result['container']\n",
    "es_ecs = result['ecs']\n",
    "\n",
    "\n",
    "def docker_logs(es_timestamp, es_stream, es_error, es_host, es_agent, es_log, es_docker, es_input, es_container, es_ecs):\n",
    "    es_timestamp = es_timestamp\n",
    "    es_stream = es_stream\n",
    "    es_error_msg = es_error['message']\n",
    "    es_host_containerized = es_host['containerized']\n",
    "    es_host_hostname = es_host['hostname']\n",
    "    es_host_name = es_host['name']\n",
    "    es_host_architecture = es_host['architecture']\n",
    "\n",
    "    es_host_os = es_host['os']\n",
    "    es_host_os_family = es_host_os['family']\n",
    "    es_host_os_name = es_host_os['name']\n",
    "    es_host_os_kernel = es_host_os['kernel']\n",
    "    es_host_os_codename = es_host_os['codename']\n",
    "    es_host_os_platform = es_host_os['platform']\n",
    "    es_host_os_version = es_host_os['version']\n",
    "    es_agent_type = es_agent['type']\n",
    "    es_agent_hostname = es_agent['hostname']\n",
    "    es_agent_version = es_agent['version']\n",
    "    es_log_file = es_log['file']\n",
    "    es_log_file_path = es_log_file['path']\n",
    "    es_log_offset = es_log['offset']    \n",
    "    es_docker_container_labels = es_docker['container']['labels']\n",
    "    es_docker_cl_org_label_schema_version = es_docker_container_labels['org_label-schema_version']\n",
    "    es_docker_cl_com_docker_compose_config_hash = es_docker_container_labels['com_docker_compose_config-hash']\n",
    "    es_docker_cl_com_docker_compose_oneoff = es_docker_container_labels['com_docker_compose_oneoff']\n",
    "    es_docker_cl_org_label_schema_vcs_ref = es_docker_container_labels['org_label-schema_vcs-ref']\n",
    "    es_docker_cl_description = es_docker_container_labels['description']\n",
    "    es_docker_cl_com_docker_compose_service = es_docker_container_labels['com_docker_compose_service']\n",
    "    es_docker_cl_license = es_docker_container_labels['license']\n",
    "    es_docker_cl_com_docker_compose_version = es_docker_container_labels['com_docker_compose_version']\n",
    "    es_docker_cl_org_label_schema_build_date = es_docker_container_labels['org_label-schema_build-date']\n",
    "    es_docker_cl_org_label_schema_name = es_docker_container_labels['org_label-schema_name']\n",
    "    es_docker_cl_org_label_schema_url = es_docker_container_labels['org_label-schema_url']\n",
    "    es_docker_cl_org_label_schema_schema_version = es_docker_container_labels['org_label-schema_schema-version']\n",
    "    es_docker_cl_com_docker_compose_container_number = es_docker_container_labels['com_docker_compose_container-number']\n",
    "    es_docker_cl_com_docker_compose_project = es_docker_container_labels['com_docker_compose_project']\n",
    "    es_docker_cl_org_label_schema_license = es_docker_container_labels['org_label-schema_license']\n",
    "    es_docker_cl_org_label_schema_vendor = es_docker_container_labels['org_label-schema_vendor']\n",
    "    es_docker_cl_org_label_schema_vcs_url = es_docker_container_labels['org_label-schema_vcs-url']\n",
    "    es_input_type = es_input['type']\n",
    "    es_container_name = es_container['name']\n",
    "    es_container_image = es_container['image']['name']\n",
    "    es_container_id = es_container['id']\n",
    "    es_ecs_version = es_ecs['version']\n",
    "\n",
    "\n",
    "    docker_logs_dict = {\n",
    "        'es_timestamp':es_timestamp,\n",
    "        'es_stream':es_stream,\n",
    "        'es_error_msg':es_error_msg,\n",
    "        'es_host_containerized':es_host_containerized,\n",
    "        'es_host_hostname':es_host_hostname,\n",
    "        'es_host_name':es_host_name,\n",
    "        'es_host_architecture':es_host_architecture,\n",
    "        'es_host_os_family':es_host_os_family,\n",
    "        'es_host_os_name':es_host_os_name,\n",
    "        'es_host_os_kernel':es_host_os_kernel,\n",
    "        'es_host_os_codename':es_host_os_codename,\n",
    "        'es_host_os_platform':es_host_os_platform,\n",
    "        'es_host_os_version':es_host_os_version,\n",
    "        'es_agent_type':es_agent_type,\n",
    "        'es_agent_hostname':es_agent_hostname,\n",
    "        'es_agent_version':es_agent_version,\n",
    "        'es_log_file':es_log_file,\n",
    "        'es_log_file_path':es_log_file_path,\n",
    "        'es_log_offset':es_log_offset,\n",
    "        'es_docker_container_labels':es_docker_container_labels,\n",
    "        'es_docker_cl_org_label_schema_version':es_docker_cl_org_label_schema_version,\n",
    "        'es_docker_cl_com_docker_compose_config_hash':es_docker_cl_com_docker_compose_config_hash,\n",
    "        'es_docker_cl_com_docker_compose_oneoff':es_docker_cl_com_docker_compose_oneoff,\n",
    "        'es_docker_cl_org_label_schema_vcs_ref':es_docker_cl_org_label_schema_vcs_ref,\n",
    "        'es_docker_cl_description':es_docker_cl_description,\n",
    "        'es_docker_cl_com_docker_compose_service':es_docker_cl_com_docker_compose_service,\n",
    "        'es_docker_cl_license':es_docker_cl_license,\n",
    "        'es_docker_cl_com_docker_compose_version':es_docker_cl_com_docker_compose_version,\n",
    "        'es_docker_cl_org_label_schema_build_date':es_docker_cl_org_label_schema_build_date,\n",
    "        'es_docker_cl_org_label_schema_name':es_docker_cl_org_label_schema_name,\n",
    "        'es_docker_cl_org_label_schema_url':es_docker_cl_org_label_schema_url,\n",
    "        'es_docker_cl_org_label_schema_schema_version':es_docker_cl_org_label_schema_schema_version,\n",
    "        'es_docker_cl_com_docker_compose_container_number':es_docker_cl_com_docker_compose_container_number,\n",
    "        'es_docker_cl_com_docker_compose_project':es_docker_cl_com_docker_compose_project,\n",
    "        'es_docker_cl_org_label_schema_license':es_docker_cl_org_label_schema_license,\n",
    "        'es_docker_cl_org_label_schema_vendor':es_docker_cl_org_label_schema_vendor,\n",
    "        'es_docker_cl_org_label_schema_vcs_url':es_docker_cl_org_label_schema_vcs_url,\n",
    "        'es_input_type':es_input_type,\n",
    "        'es_container_name':es_container_name,\n",
    "        'es_container_image':es_container_image,\n",
    "        'es_container_id':es_container_id\n",
    "    }\n",
    "    docker_df = pd.DataFrame.from_dict(docker_logs_dict,orient='index').transpose()\n",
    "    return docker_df\n",
    "    "
   ]
  },
  {
   "cell_type": "code",
   "execution_count": 84,
   "metadata": {},
   "outputs": [
    {
     "name": "stdout",
     "output_type": "stream",
     "text": [
      "TIMESTAMP\n",
      "2019-12-03T05:36:52.948Z\n"
     ]
    }
   ],
   "source": [
    "print(\"TIMESTAMP\")\n",
    "print(es_timestamp)"
   ]
  },
  {
   "cell_type": "code",
   "execution_count": 49,
   "metadata": {},
   "outputs": [
    {
     "name": "stdout",
     "output_type": "stream",
     "text": [
      "STREAM\n",
      "<class 'str'>\n",
      "stderr\n"
     ]
    }
   ],
   "source": [
    "print(\"STREAM\")\n",
    "print(type(es_stream))\n",
    "print(es_stream)"
   ]
  },
  {
   "cell_type": "code",
   "execution_count": 52,
   "metadata": {},
   "outputs": [
    {
     "name": "stdout",
     "output_type": "stream",
     "text": [
      "ERROR\n",
      "<class 'dict'>\n",
      "--Error Message\n",
      "Failed to rename fields in processor: could not fetch value for key: elasticsearch.message, Error: key not found\n"
     ]
    }
   ],
   "source": [
    "print(\"ERROR\")\n",
    "print(type(es_error))\n",
    "print(\"--Error Message\")\n",
    "es_error_msg = es_error['message']\n",
    "print(es_error_msg)"
   ]
  },
  {
   "cell_type": "code",
   "execution_count": 55,
   "metadata": {},
   "outputs": [
    {
     "name": "stdout",
     "output_type": "stream",
     "text": [
      "HOST\n",
      "<class 'dict'>\n",
      "7 (Core)\n"
     ]
    }
   ],
   "source": [
    "print(\"HOST\")\n",
    "print(type(es_host))\n",
    "es_host_containerized = es_host['containerized']\n",
    "es_host_hostname = es_host['hostname']\n",
    "es_host_name = es_host['name']\n",
    "es_host_architecture = es_host['architecture']\n",
    "\n",
    "es_host_os = es_host['os']\n",
    "es_host_os_family = es_host_os['family']\n",
    "es_host_os_name = es_host_os['name']\n",
    "es_host_os_kernel = es_host_os['kernel']\n",
    "es_host_os_codename = es_host_os['codename']\n",
    "es_host_os_platform = es_host_os['platform']\n",
    "es_host_os_version = es_host_os['version']\n",
    "\n",
    "print(es_host_os_version)"
   ]
  },
  {
   "cell_type": "code",
   "execution_count": 58,
   "metadata": {},
   "outputs": [
    {
     "name": "stdout",
     "output_type": "stream",
     "text": [
      "AGENT\n",
      "<class 'dict'>\n",
      "filebeat\n"
     ]
    }
   ],
   "source": [
    "print(\"AGENT\")\n",
    "print(type(es_agent))\n",
    "es_agent_type = es_agent['type']\n",
    "es_agent_hostname = es_agent['hostname']\n",
    "es_agent_version = es_agent['version']\n",
    "print(es_agent_type)"
   ]
  },
  {
   "cell_type": "code",
   "execution_count": 60,
   "metadata": {},
   "outputs": [
    {
     "name": "stdout",
     "output_type": "stream",
     "text": [
      "LOG\n",
      "<class 'dict'>\n",
      "/var/lib/docker/containers/c8a161aed505f3eec98df230c46a46d734a5ca234044b4a1239565ad8b5c16f9/c8a161aed505f3eec98df230c46a46d734a5ca234044b4a1239565ad8b5c16f9-json.log\n"
     ]
    }
   ],
   "source": [
    "print(\"LOG\")\n",
    "print(type(es_log))\n",
    "es_log_file = es_log['file']\n",
    "es_log_file_path = es_log_file['path']\n",
    "es_log_offset = es_log['offset']\n",
    "print(es_log_file_path)"
   ]
  },
  {
   "cell_type": "code",
   "execution_count": 102,
   "metadata": {},
   "outputs": [
    {
     "name": "stdout",
     "output_type": "stream",
     "text": [
      "DOCKER\n",
      "<class 'dict'>\n",
      "7.4.0\n"
     ]
    }
   ],
   "source": [
    "print(\"DOCKER\")\n",
    "print(type(es_docker))\n",
    "es_docker_container_labels = es_docker['container']['labels']\n",
    "es_docker_cl_org_label_schema_version = es_docker_container_labels['org_label-schema_version']\n",
    "es_docker_cl_com_docker_compose_config_hash = es_docker_container_labels['com_docker_compose_config-hash']\n",
    "es_docker_cl_com_docker_compose_oneoff = es_docker_container_labels['com_docker_compose_oneoff']\n",
    "es_docker_cl_org_label_schema_vcs_ref = es_docker_container_labels['org_label-schema_vcs-ref']\n",
    "es_docker_cl_description = es_docker_container_labels['description']\n",
    "es_docker_cl_com_docker_compose_service = es_docker_container_labels['com_docker_compose_service']\n",
    "es_docker_cl_license = es_docker_container_labels['license']\n",
    "es_docker_cl_com_docker_compose_version = es_docker_container_labels['com_docker_compose_version']\n",
    "es_docker_cl_org_label_schema_build_date = es_docker_container_labels['org_label-schema_build-date']\n",
    "es_docker_cl_org_label_schema_name = es_docker_container_labels['org_label-schema_name']\n",
    "es_docker_cl_org_label_schema_url = es_docker_container_labels['org_label-schema_url']\n",
    "es_docker_cl_org_label_schema_schema_version = es_docker_container_labels['org_label-schema_schema-version']\n",
    "es_docker_cl_com_docker_compose_container_number = es_docker_container_labels['com_docker_compose_container-number']\n",
    "es_docker_cl_com_docker_compose_project = es_docker_container_labels['com_docker_compose_project']\n",
    "es_docker_cl_org_label_schema_license = es_docker_container_labels['org_label-schema_license']\n",
    "es_docker_cl_org_label_schema_vendor = es_docker_container_labels['org_label-schema_vendor']\n",
    "es_docker_cl_org_label_schema_vcs_url = es_docker_container_labels['org_label-schema_vcs-url']\n",
    "print(es_docker_cl_org_label_schema_version )"
   ]
  },
  {
   "cell_type": "code",
   "execution_count": 103,
   "metadata": {},
   "outputs": [
    {
     "name": "stdout",
     "output_type": "stream",
     "text": [
      "INPUT\n",
      "<class 'dict'>\n",
      "container\n"
     ]
    }
   ],
   "source": [
    "print(\"INPUT\")\n",
    "print(type(es_input))\n",
    "es_input_type = es_input['type']\n",
    "print(es_input_type)"
   ]
  },
  {
   "cell_type": "code",
   "execution_count": 104,
   "metadata": {},
   "outputs": [
    {
     "name": "stdout",
     "output_type": "stream",
     "text": [
      "CONTAINER\n",
      "<class 'dict'>\n",
      "c8a161aed505f3eec98df230c46a46d734a5ca234044b4a1239565ad8b5c16f9\n"
     ]
    }
   ],
   "source": [
    "print(\"CONTAINER\")\n",
    "print(type(es_container))\n",
    "es_container_name = es_container['name']\n",
    "es_container_image = es_container['image']['name']\n",
    "es_container_id = es_container['id']\n",
    "print(es_container_id)"
   ]
  },
  {
   "cell_type": "code",
   "execution_count": 105,
   "metadata": {},
   "outputs": [
    {
     "name": "stdout",
     "output_type": "stream",
     "text": [
      "ECS\n",
      "<class 'dict'>\n"
     ]
    }
   ],
   "source": [
    "print(\"ECS\")\n",
    "print(type(es_ecs))\n",
    "es_ecs_version = es_ecs['version']"
   ]
  },
  {
   "cell_type": "markdown",
   "metadata": {},
   "source": [
    "## Combine Features into DataFrame"
   ]
  },
  {
   "cell_type": "code",
   "execution_count": 106,
   "metadata": {},
   "outputs": [],
   "source": [
    "import pandas as pd"
   ]
  },
  {
   "cell_type": "code",
   "execution_count": 107,
   "metadata": {},
   "outputs": [],
   "source": [
    "es_docker_dict = {\n",
    "    'es_timestamp':es_timestamp,\n",
    "    'es_stream':es_stream,\n",
    "    'es_error_msg':es_error_msg,\n",
    "    'es_host_containerized':es_host_containerized,\n",
    "    'es_host_hostname':es_host_hostname,\n",
    "    'es_host_name':es_host_name,\n",
    "    'es_host_architecture':es_host_architecture,\n",
    "    'es_host_os_family':es_host_os_family,\n",
    "    'es_host_os_name':es_host_os_name,\n",
    "    'es_host_os_kernel':es_host_os_kernel,\n",
    "    'es_host_os_codename':es_host_os_codename,\n",
    "    'es_host_os_platform':es_host_os_platform,\n",
    "    'es_host_os_version':es_host_os_version,\n",
    "    'es_agent_type':es_agent_type,\n",
    "    'es_agent_hostname':es_agent_hostname,\n",
    "    'es_agent_version':es_agent_version,\n",
    "    'es_log_file':es_log_file,\n",
    "    'es_log_file_path':es_log_file_path,\n",
    "    'es_log_offset':es_log_offset,\n",
    "    'es_docker_container_labels':es_docker_container_labels,\n",
    "    'es_docker_cl_org_label_schema_version':es_docker_cl_org_label_schema_version,\n",
    "    'es_docker_cl_com_docker_compose_config_hash':es_docker_cl_com_docker_compose_config_hash,\n",
    "    'es_docker_cl_com_docker_compose_oneoff':es_docker_cl_com_docker_compose_oneoff,\n",
    "    'es_docker_cl_org_label_schema_vcs_ref':es_docker_cl_org_label_schema_vcs_ref,\n",
    "    'es_docker_cl_description':es_docker_cl_description,\n",
    "    'es_docker_cl_com_docker_compose_service':es_docker_cl_com_docker_compose_service,\n",
    "    'es_docker_cl_license':es_docker_cl_license,\n",
    "    'es_docker_cl_com_docker_compose_version':es_docker_cl_com_docker_compose_version,\n",
    "    'es_docker_cl_org_label_schema_build_date':es_docker_cl_org_label_schema_build_date,\n",
    "    'es_docker_cl_org_label_schema_name':es_docker_cl_org_label_schema_name,\n",
    "    'es_docker_cl_org_label_schema_url':es_docker_cl_org_label_schema_url,\n",
    "    'es_docker_cl_org_label_schema_schema_version':es_docker_cl_org_label_schema_schema_version,\n",
    "    'es_docker_cl_com_docker_compose_container_number':es_docker_cl_com_docker_compose_container_number,\n",
    "    'es_docker_cl_com_docker_compose_project':es_docker_cl_com_docker_compose_project,\n",
    "    'es_docker_cl_org_label_schema_license':es_docker_cl_org_label_schema_license,\n",
    "    'es_docker_cl_org_label_schema_vendor':es_docker_cl_org_label_schema_vendor,\n",
    "    'es_docker_cl_org_label_schema_vcs_url':es_docker_cl_org_label_schema_vcs_url,\n",
    "    'es_input_type':es_input_type,\n",
    "    'es_container_name':es_container_name,\n",
    "    'es_container_image':es_container_image,\n",
    "    'es_container_id':es_container_id\n",
    "}"
   ]
  },
  {
   "cell_type": "code",
   "execution_count": 114,
   "metadata": {},
   "outputs": [],
   "source": [
    "es_docker_df = pd.DataFrame.from_dict(es_docker_dict,orient='index').transpose()"
   ]
  },
  {
   "cell_type": "code",
   "execution_count": 142,
   "metadata": {},
   "outputs": [
    {
     "name": "stdout",
     "output_type": "stream",
     "text": [
      "SKIPPING.monitoring-kibana-7-2019.12.03\n",
      "SKIPPING.monitoring-logstash-7-2019.12.03\n",
      "SKIPPING.kibana_1\n",
      "SKIPPING.monitoring-es-7-2019.12.03\n",
      "SKIPPING.monitoring-beats-7-2019.12.03\n",
      "SKIPPING.kibana_task_manager_1\n",
      "SKIPPING.apm-agent-configuration\n",
      "TEST\n",
      "mse5ym4BHG4B21aa2igE\n",
      "dict_keys(['@timestamp', 'log', 'container', 'ecs', 'docker', 'error', 'host', 'stream', 'input', 'agent'])\n",
      "m8e5ym4BHG4B21aa2igE\n",
      "dict_keys(['@timestamp', 'stream', 'message', 'container', 'docker', 'ecs', 'host', 'log', 'input', 'agent'])\n"
     ]
    },
    {
     "ename": "KeyError",
     "evalue": "'org_label-schema_version'",
     "output_type": "error",
     "traceback": [
      "\u001b[0;31m---------------------------------------------------------------------------\u001b[0m",
      "\u001b[0;31mKeyError\u001b[0m                                  Traceback (most recent call last)",
      "\u001b[0;32m<ipython-input-142-cf4975b3d345>\u001b[0m in \u001b[0;36m<module>\u001b[0;34m\u001b[0m\n\u001b[1;32m     25\u001b[0m                 \u001b[0mes_ecs\u001b[0m \u001b[0;34m=\u001b[0m \u001b[0mresult\u001b[0m\u001b[0;34m[\u001b[0m\u001b[0;34m'ecs'\u001b[0m\u001b[0;34m]\u001b[0m\u001b[0;34m\u001b[0m\u001b[0;34m\u001b[0m\u001b[0m\n\u001b[1;32m     26\u001b[0m \u001b[0;34m\u001b[0m\u001b[0m\n\u001b[0;32m---> 27\u001b[0;31m                 \u001b[0mx_df\u001b[0m \u001b[0;34m=\u001b[0m \u001b[0mdocker_logs\u001b[0m\u001b[0;34m(\u001b[0m\u001b[0mes_timestamp\u001b[0m\u001b[0;34m,\u001b[0m \u001b[0mes_stream\u001b[0m\u001b[0;34m,\u001b[0m \u001b[0mes_error\u001b[0m\u001b[0;34m,\u001b[0m \u001b[0mes_host\u001b[0m\u001b[0;34m,\u001b[0m \u001b[0mes_agent\u001b[0m\u001b[0;34m,\u001b[0m \u001b[0mes_log\u001b[0m\u001b[0;34m,\u001b[0m \u001b[0mes_docker\u001b[0m\u001b[0;34m,\u001b[0m \u001b[0mes_input\u001b[0m\u001b[0;34m,\u001b[0m \u001b[0mes_container\u001b[0m\u001b[0;34m,\u001b[0m \u001b[0mes_ecs\u001b[0m\u001b[0;34m)\u001b[0m\u001b[0;34m\u001b[0m\u001b[0;34m\u001b[0m\u001b[0m\n\u001b[0m\u001b[1;32m     28\u001b[0m                 \u001b[0;31m#print(x_df)\u001b[0m\u001b[0;34m\u001b[0m\u001b[0;34m\u001b[0m\u001b[0;34m\u001b[0m\u001b[0m\n\u001b[1;32m     29\u001b[0m                 \u001b[0mcomplete_df\u001b[0m\u001b[0;34m.\u001b[0m\u001b[0mappend\u001b[0m\u001b[0;34m(\u001b[0m\u001b[0mx_df\u001b[0m\u001b[0;34m)\u001b[0m\u001b[0;34m\u001b[0m\u001b[0;34m\u001b[0m\u001b[0m\n",
      "\u001b[0;32m<ipython-input-124-0e475518dea6>\u001b[0m in \u001b[0;36mdocker_logs\u001b[0;34m(es_timestamp, es_stream, es_error, es_host, es_agent, es_log, es_docker, es_input, es_container, es_ecs)\u001b[0m\n\u001b[1;32m     34\u001b[0m     \u001b[0mes_log_offset\u001b[0m \u001b[0;34m=\u001b[0m \u001b[0mes_log\u001b[0m\u001b[0;34m[\u001b[0m\u001b[0;34m'offset'\u001b[0m\u001b[0;34m]\u001b[0m\u001b[0;34m\u001b[0m\u001b[0;34m\u001b[0m\u001b[0m\n\u001b[1;32m     35\u001b[0m     \u001b[0mes_docker_container_labels\u001b[0m \u001b[0;34m=\u001b[0m \u001b[0mes_docker\u001b[0m\u001b[0;34m[\u001b[0m\u001b[0;34m'container'\u001b[0m\u001b[0;34m]\u001b[0m\u001b[0;34m[\u001b[0m\u001b[0;34m'labels'\u001b[0m\u001b[0;34m]\u001b[0m\u001b[0;34m\u001b[0m\u001b[0;34m\u001b[0m\u001b[0m\n\u001b[0;32m---> 36\u001b[0;31m     \u001b[0mes_docker_cl_org_label_schema_version\u001b[0m \u001b[0;34m=\u001b[0m \u001b[0mes_docker_container_labels\u001b[0m\u001b[0;34m[\u001b[0m\u001b[0;34m'org_label-schema_version'\u001b[0m\u001b[0;34m]\u001b[0m\u001b[0;34m\u001b[0m\u001b[0;34m\u001b[0m\u001b[0m\n\u001b[0m\u001b[1;32m     37\u001b[0m     \u001b[0mes_docker_cl_com_docker_compose_config_hash\u001b[0m \u001b[0;34m=\u001b[0m \u001b[0mes_docker_container_labels\u001b[0m\u001b[0;34m[\u001b[0m\u001b[0;34m'com_docker_compose_config-hash'\u001b[0m\u001b[0;34m]\u001b[0m\u001b[0;34m\u001b[0m\u001b[0;34m\u001b[0m\u001b[0m\n\u001b[1;32m     38\u001b[0m     \u001b[0mes_docker_cl_com_docker_compose_oneoff\u001b[0m \u001b[0;34m=\u001b[0m \u001b[0mes_docker_container_labels\u001b[0m\u001b[0;34m[\u001b[0m\u001b[0;34m'com_docker_compose_oneoff'\u001b[0m\u001b[0;34m]\u001b[0m\u001b[0;34m\u001b[0m\u001b[0;34m\u001b[0m\u001b[0m\n",
      "\u001b[0;31mKeyError\u001b[0m: 'org_label-schema_version'"
     ]
    }
   ],
   "source": [
    "complete_df = pd.DataFrame()\n",
    "for elastic_index_name in indices_list_elasticsearch(es):\n",
    "    if elastic_index_name.startswith('.'):\n",
    "        print(\"SKIPPING\" + elastic_index_name)\n",
    "    else:\n",
    "        if elastic_index_name.startswith('docker'):\n",
    "            print(\"TEST\")\n",
    "            for record_id in elastic_index_id_list(elastic_index_name):\n",
    "                print(record_id)\n",
    "                result = es.get(index=elastic_index_name, id=record_id)['_source']\n",
    "                \n",
    "                es_timestamp = result['@timestamp']\n",
    "                es_stream = result['stream']\n",
    "                print(result.keys())\n",
    "                try:\n",
    "                    es_error = result['error']\n",
    "                except:\n",
    "                    es_error['message'] = 'NA'\n",
    "                es_host = result['host']\n",
    "                es_agent = result['agent']\n",
    "                es_log = result['log']\n",
    "                es_docker = result['docker']\n",
    "                es_input = result['input']\n",
    "                es_container = result['container']\n",
    "                es_ecs = result['ecs']\n",
    "                \n",
    "                x_df = docker_logs(es_timestamp, es_stream, es_error, es_host, es_agent, es_log, es_docker, es_input, es_container, es_ecs)\n",
    "                #print(x_df)\n",
    "                complete_df.append(x_df)\n",
    "            \n",
    "        #print(complete_df)"
   ]
  },
  {
   "cell_type": "code",
   "execution_count": 116,
   "metadata": {},
   "outputs": [
    {
     "data": {
      "text/html": [
       "<div>\n",
       "<style scoped>\n",
       "    .dataframe tbody tr th:only-of-type {\n",
       "        vertical-align: middle;\n",
       "    }\n",
       "\n",
       "    .dataframe tbody tr th {\n",
       "        vertical-align: top;\n",
       "    }\n",
       "\n",
       "    .dataframe thead th {\n",
       "        text-align: right;\n",
       "    }\n",
       "</style>\n",
       "<table border=\"1\" class=\"dataframe\">\n",
       "  <thead>\n",
       "    <tr style=\"text-align: right;\">\n",
       "      <th></th>\n",
       "      <th>es_timestamp</th>\n",
       "      <th>es_stream</th>\n",
       "      <th>es_error_msg</th>\n",
       "      <th>es_host_containerized</th>\n",
       "      <th>es_host_hostname</th>\n",
       "      <th>es_host_name</th>\n",
       "      <th>es_host_architecture</th>\n",
       "      <th>es_host_os_family</th>\n",
       "      <th>es_host_os_name</th>\n",
       "      <th>es_host_os_kernel</th>\n",
       "      <th>...</th>\n",
       "      <th>es_docker_cl_org_label_schema_schema_version</th>\n",
       "      <th>es_docker_cl_com_docker_compose_container_number</th>\n",
       "      <th>es_docker_cl_com_docker_compose_project</th>\n",
       "      <th>es_docker_cl_org_label_schema_license</th>\n",
       "      <th>es_docker_cl_org_label_schema_vendor</th>\n",
       "      <th>es_docker_cl_org_label_schema_vcs_url</th>\n",
       "      <th>es_input_type</th>\n",
       "      <th>es_container_name</th>\n",
       "      <th>es_container_image</th>\n",
       "      <th>es_container_id</th>\n",
       "    </tr>\n",
       "  </thead>\n",
       "  <tbody>\n",
       "    <tr>\n",
       "      <th>0</th>\n",
       "      <td>2019-12-03T05:36:52.948Z</td>\n",
       "      <td>stderr</td>\n",
       "      <td>Failed to rename fields in processor: could no...</td>\n",
       "      <td>True</td>\n",
       "      <td>filebeat_docker_for_elasticsearch</td>\n",
       "      <td>filebeat_docker_for_elasticsearch</td>\n",
       "      <td>x86_64</td>\n",
       "      <td>redhat</td>\n",
       "      <td>CentOS Linux</td>\n",
       "      <td>4.9.184-linuxkit</td>\n",
       "      <td>...</td>\n",
       "      <td>1.0</td>\n",
       "      <td>1</td>\n",
       "      <td>aiops</td>\n",
       "      <td>GPLv2</td>\n",
       "      <td>Elastic</td>\n",
       "      <td>github.com/elastic/beats</td>\n",
       "      <td>container</td>\n",
       "      <td>filebeat_for_elasticsearch</td>\n",
       "      <td>docker.elastic.co/beats/filebeat:7.4.0</td>\n",
       "      <td>c8a161aed505f3eec98df230c46a46d734a5ca234044b4...</td>\n",
       "    </tr>\n",
       "  </tbody>\n",
       "</table>\n",
       "<p>1 rows × 41 columns</p>\n",
       "</div>"
      ],
      "text/plain": [
       "               es_timestamp es_stream  \\\n",
       "0  2019-12-03T05:36:52.948Z    stderr   \n",
       "\n",
       "                                        es_error_msg es_host_containerized  \\\n",
       "0  Failed to rename fields in processor: could no...                  True   \n",
       "\n",
       "                    es_host_hostname                       es_host_name  \\\n",
       "0  filebeat_docker_for_elasticsearch  filebeat_docker_for_elasticsearch   \n",
       "\n",
       "  es_host_architecture es_host_os_family es_host_os_name es_host_os_kernel  \\\n",
       "0               x86_64            redhat    CentOS Linux  4.9.184-linuxkit   \n",
       "\n",
       "   ... es_docker_cl_org_label_schema_schema_version  \\\n",
       "0  ...                                          1.0   \n",
       "\n",
       "  es_docker_cl_com_docker_compose_container_number  \\\n",
       "0                                                1   \n",
       "\n",
       "  es_docker_cl_com_docker_compose_project  \\\n",
       "0                                   aiops   \n",
       "\n",
       "  es_docker_cl_org_label_schema_license es_docker_cl_org_label_schema_vendor  \\\n",
       "0                                 GPLv2                              Elastic   \n",
       "\n",
       "  es_docker_cl_org_label_schema_vcs_url es_input_type  \\\n",
       "0              github.com/elastic/beats     container   \n",
       "\n",
       "            es_container_name                      es_container_image  \\\n",
       "0  filebeat_for_elasticsearch  docker.elastic.co/beats/filebeat:7.4.0   \n",
       "\n",
       "                                     es_container_id  \n",
       "0  c8a161aed505f3eec98df230c46a46d734a5ca234044b4...  \n",
       "\n",
       "[1 rows x 41 columns]"
      ]
     },
     "execution_count": 116,
     "metadata": {},
     "output_type": "execute_result"
    }
   ],
   "source": [
    "es_docker_df"
   ]
  },
  {
   "cell_type": "markdown",
   "metadata": {},
   "source": [
    "### TO DO\n",
    "- [ ] Loops - Index + ID\n",
    "- [ ] Feature Engineering (Automated)\n",
    "- [ ] Core ML Data - Anomaly Detection (\"Normal Logs\")\n",
    "- [ ] Ingest Anomalies and stage for cluster analytics - two tier - known issues filter, and unknown issues classifier"
   ]
  },
  {
   "cell_type": "code",
   "execution_count": null,
   "metadata": {},
   "outputs": [],
   "source": []
  },
  {
   "cell_type": "code",
   "execution_count": null,
   "metadata": {},
   "outputs": [],
   "source": []
  },
  {
   "cell_type": "code",
   "execution_count": null,
   "metadata": {},
   "outputs": [],
   "source": []
  },
  {
   "cell_type": "code",
   "execution_count": null,
   "metadata": {},
   "outputs": [],
   "source": [
    "es_docker_df.index = es_docker_df['es_timestamp']"
   ]
  }
 ],
 "metadata": {
  "kernelspec": {
   "display_name": "Python 3",
   "language": "python",
   "name": "python3"
  },
  "language_info": {
   "codemirror_mode": {
    "name": "ipython",
    "version": 3
   },
   "file_extension": ".py",
   "mimetype": "text/x-python",
   "name": "python",
   "nbconvert_exporter": "python",
   "pygments_lexer": "ipython3",
   "version": "3.7.3"
  }
 },
 "nbformat": 4,
 "nbformat_minor": 2
}
